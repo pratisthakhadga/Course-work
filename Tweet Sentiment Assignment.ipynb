{
 "cells": [
  {
   "cell_type": "code",
   "execution_count": 11,
   "metadata": {},
   "outputs": [],
   "source": [
    "#Import the relevant libraries\n",
    "import pandas as pd\n",
    "import matplotlib.pyplot as plt"
   ]
  },
  {
   "cell_type": "code",
   "execution_count": 12,
   "metadata": {},
   "outputs": [
    {
     "data": {
      "text/html": [
       "<div>\n",
       "<style scoped>\n",
       "    .dataframe tbody tr th:only-of-type {\n",
       "        vertical-align: middle;\n",
       "    }\n",
       "\n",
       "    .dataframe tbody tr th {\n",
       "        vertical-align: top;\n",
       "    }\n",
       "\n",
       "    .dataframe thead th {\n",
       "        text-align: right;\n",
       "    }\n",
       "</style>\n",
       "<table border=\"1\" class=\"dataframe\">\n",
       "  <thead>\n",
       "    <tr style=\"text-align: right;\">\n",
       "      <th></th>\n",
       "      <th>Class</th>\n",
       "      <th>Count</th>\n",
       "    </tr>\n",
       "  </thead>\n",
       "  <tbody>\n",
       "    <tr>\n",
       "      <th>0</th>\n",
       "      <td>&lt;class 'dict'&gt;</td>\n",
       "      <td>NaN</td>\n",
       "    </tr>\n",
       "    <tr>\n",
       "      <th>1</th>\n",
       "      <td>-5 sentiments</td>\n",
       "      <td>527.0</td>\n",
       "    </tr>\n",
       "    <tr>\n",
       "      <th>2</th>\n",
       "      <td>-4 sentiments</td>\n",
       "      <td>2532.0</td>\n",
       "    </tr>\n",
       "    <tr>\n",
       "      <th>3</th>\n",
       "      <td>-3 sentiments</td>\n",
       "      <td>3233.0</td>\n",
       "    </tr>\n",
       "    <tr>\n",
       "      <th>4</th>\n",
       "      <td>-2 sentiments</td>\n",
       "      <td>5501.0</td>\n",
       "    </tr>\n",
       "    <tr>\n",
       "      <th>5</th>\n",
       "      <td>-1 sentiments</td>\n",
       "      <td>6730.0</td>\n",
       "    </tr>\n",
       "    <tr>\n",
       "      <th>6</th>\n",
       "      <td>0 sentiments</td>\n",
       "      <td>0.0</td>\n",
       "    </tr>\n",
       "    <tr>\n",
       "      <th>7</th>\n",
       "      <td>1 sentiments</td>\n",
       "      <td>5371.0</td>\n",
       "    </tr>\n",
       "    <tr>\n",
       "      <th>8</th>\n",
       "      <td>2 sentiments</td>\n",
       "      <td>8616.0</td>\n",
       "    </tr>\n",
       "    <tr>\n",
       "      <th>9</th>\n",
       "      <td>3 sentiments</td>\n",
       "      <td>5751.0</td>\n",
       "    </tr>\n",
       "    <tr>\n",
       "      <th>10</th>\n",
       "      <td>4 sentiments</td>\n",
       "      <td>1351.0</td>\n",
       "    </tr>\n",
       "    <tr>\n",
       "      <th>11</th>\n",
       "      <td>5 sentiments</td>\n",
       "      <td>25.0</td>\n",
       "    </tr>\n",
       "  </tbody>\n",
       "</table>\n",
       "</div>"
      ],
      "text/plain": [
       "             Class   Count\n",
       "0   <class 'dict'>     NaN\n",
       "1    -5 sentiments   527.0\n",
       "2    -4 sentiments  2532.0\n",
       "3    -3 sentiments  3233.0\n",
       "4    -2 sentiments  5501.0\n",
       "5    -1 sentiments  6730.0\n",
       "6     0 sentiments     0.0\n",
       "7     1 sentiments  5371.0\n",
       "8     2 sentiments  8616.0\n",
       "9     3 sentiments  5751.0\n",
       "10    4 sentiments  1351.0\n",
       "11    5 sentiments    25.0"
      ]
     },
     "execution_count": 12,
     "metadata": {},
     "output_type": "execute_result"
    }
   ],
   "source": [
    "#Import the baseline file and label the columns\n",
    "df = pd.read_fwf('baseline.txt', delimiter=\" \", names = ['Class', \"Count\"])\n",
    "df"
   ]
  },
  {
   "cell_type": "code",
   "execution_count": 13,
   "metadata": {},
   "outputs": [
    {
     "data": {
      "text/html": [
       "<div>\n",
       "<style scoped>\n",
       "    .dataframe tbody tr th:only-of-type {\n",
       "        vertical-align: middle;\n",
       "    }\n",
       "\n",
       "    .dataframe tbody tr th {\n",
       "        vertical-align: top;\n",
       "    }\n",
       "\n",
       "    .dataframe thead th {\n",
       "        text-align: right;\n",
       "    }\n",
       "</style>\n",
       "<table border=\"1\" class=\"dataframe\">\n",
       "  <thead>\n",
       "    <tr style=\"text-align: right;\">\n",
       "      <th></th>\n",
       "      <th>Class</th>\n",
       "      <th>Count</th>\n",
       "    </tr>\n",
       "  </thead>\n",
       "  <tbody>\n",
       "    <tr>\n",
       "      <th>1</th>\n",
       "      <td>-5 sentiments</td>\n",
       "      <td>527.0</td>\n",
       "    </tr>\n",
       "    <tr>\n",
       "      <th>2</th>\n",
       "      <td>-4 sentiments</td>\n",
       "      <td>2532.0</td>\n",
       "    </tr>\n",
       "    <tr>\n",
       "      <th>3</th>\n",
       "      <td>-3 sentiments</td>\n",
       "      <td>3233.0</td>\n",
       "    </tr>\n",
       "    <tr>\n",
       "      <th>4</th>\n",
       "      <td>-2 sentiments</td>\n",
       "      <td>5501.0</td>\n",
       "    </tr>\n",
       "    <tr>\n",
       "      <th>5</th>\n",
       "      <td>-1 sentiments</td>\n",
       "      <td>6730.0</td>\n",
       "    </tr>\n",
       "    <tr>\n",
       "      <th>6</th>\n",
       "      <td>0 sentiments</td>\n",
       "      <td>0.0</td>\n",
       "    </tr>\n",
       "    <tr>\n",
       "      <th>7</th>\n",
       "      <td>1 sentiments</td>\n",
       "      <td>5371.0</td>\n",
       "    </tr>\n",
       "    <tr>\n",
       "      <th>8</th>\n",
       "      <td>2 sentiments</td>\n",
       "      <td>8616.0</td>\n",
       "    </tr>\n",
       "    <tr>\n",
       "      <th>9</th>\n",
       "      <td>3 sentiments</td>\n",
       "      <td>5751.0</td>\n",
       "    </tr>\n",
       "    <tr>\n",
       "      <th>10</th>\n",
       "      <td>4 sentiments</td>\n",
       "      <td>1351.0</td>\n",
       "    </tr>\n",
       "    <tr>\n",
       "      <th>11</th>\n",
       "      <td>5 sentiments</td>\n",
       "      <td>25.0</td>\n",
       "    </tr>\n",
       "  </tbody>\n",
       "</table>\n",
       "</div>"
      ],
      "text/plain": [
       "            Class   Count\n",
       "1   -5 sentiments   527.0\n",
       "2   -4 sentiments  2532.0\n",
       "3   -3 sentiments  3233.0\n",
       "4   -2 sentiments  5501.0\n",
       "5   -1 sentiments  6730.0\n",
       "6    0 sentiments     0.0\n",
       "7    1 sentiments  5371.0\n",
       "8    2 sentiments  8616.0\n",
       "9    3 sentiments  5751.0\n",
       "10   4 sentiments  1351.0\n",
       "11   5 sentiments    25.0"
      ]
     },
     "execution_count": 13,
     "metadata": {},
     "output_type": "execute_result"
    }
   ],
   "source": [
    "#remove the column header that we do not need\n",
    "df = df.dropna()\n",
    "df"
   ]
  },
  {
   "cell_type": "code",
   "execution_count": 14,
   "metadata": {},
   "outputs": [
    {
     "data": {
      "text/html": [
       "<div>\n",
       "<style scoped>\n",
       "    .dataframe tbody tr th:only-of-type {\n",
       "        vertical-align: middle;\n",
       "    }\n",
       "\n",
       "    .dataframe tbody tr th {\n",
       "        vertical-align: top;\n",
       "    }\n",
       "\n",
       "    .dataframe thead th {\n",
       "        text-align: right;\n",
       "    }\n",
       "</style>\n",
       "<table border=\"1\" class=\"dataframe\">\n",
       "  <thead>\n",
       "    <tr style=\"text-align: right;\">\n",
       "      <th></th>\n",
       "      <th>Class</th>\n",
       "      <th>Count</th>\n",
       "      <th>Values</th>\n",
       "    </tr>\n",
       "  </thead>\n",
       "  <tbody>\n",
       "    <tr>\n",
       "      <th>1</th>\n",
       "      <td>-5 sentiments</td>\n",
       "      <td>527.0</td>\n",
       "      <td>-5</td>\n",
       "    </tr>\n",
       "    <tr>\n",
       "      <th>2</th>\n",
       "      <td>-4 sentiments</td>\n",
       "      <td>2532.0</td>\n",
       "      <td>-4</td>\n",
       "    </tr>\n",
       "    <tr>\n",
       "      <th>3</th>\n",
       "      <td>-3 sentiments</td>\n",
       "      <td>3233.0</td>\n",
       "      <td>-3</td>\n",
       "    </tr>\n",
       "    <tr>\n",
       "      <th>4</th>\n",
       "      <td>-2 sentiments</td>\n",
       "      <td>5501.0</td>\n",
       "      <td>-2</td>\n",
       "    </tr>\n",
       "    <tr>\n",
       "      <th>5</th>\n",
       "      <td>-1 sentiments</td>\n",
       "      <td>6730.0</td>\n",
       "      <td>-1</td>\n",
       "    </tr>\n",
       "    <tr>\n",
       "      <th>6</th>\n",
       "      <td>0 sentiments</td>\n",
       "      <td>0.0</td>\n",
       "      <td>0</td>\n",
       "    </tr>\n",
       "    <tr>\n",
       "      <th>7</th>\n",
       "      <td>1 sentiments</td>\n",
       "      <td>5371.0</td>\n",
       "      <td>1</td>\n",
       "    </tr>\n",
       "    <tr>\n",
       "      <th>8</th>\n",
       "      <td>2 sentiments</td>\n",
       "      <td>8616.0</td>\n",
       "      <td>2</td>\n",
       "    </tr>\n",
       "    <tr>\n",
       "      <th>9</th>\n",
       "      <td>3 sentiments</td>\n",
       "      <td>5751.0</td>\n",
       "      <td>3</td>\n",
       "    </tr>\n",
       "    <tr>\n",
       "      <th>10</th>\n",
       "      <td>4 sentiments</td>\n",
       "      <td>1351.0</td>\n",
       "      <td>4</td>\n",
       "    </tr>\n",
       "    <tr>\n",
       "      <th>11</th>\n",
       "      <td>5 sentiments</td>\n",
       "      <td>25.0</td>\n",
       "      <td>5</td>\n",
       "    </tr>\n",
       "  </tbody>\n",
       "</table>\n",
       "</div>"
      ],
      "text/plain": [
       "            Class   Count  Values\n",
       "1   -5 sentiments   527.0      -5\n",
       "2   -4 sentiments  2532.0      -4\n",
       "3   -3 sentiments  3233.0      -3\n",
       "4   -2 sentiments  5501.0      -2\n",
       "5   -1 sentiments  6730.0      -1\n",
       "6    0 sentiments     0.0       0\n",
       "7    1 sentiments  5371.0       1\n",
       "8    2 sentiments  8616.0       2\n",
       "9    3 sentiments  5751.0       3\n",
       "10   4 sentiments  1351.0       4\n",
       "11   5 sentiments    25.0       5"
      ]
     },
     "execution_count": 14,
     "metadata": {},
     "output_type": "execute_result"
    }
   ],
   "source": [
    "# add a new column with the sentiment values\n",
    "df = df.copy()\n",
    "df['Values'] = range(-5,6)\n",
    "df"
   ]
  },
  {
   "cell_type": "code",
   "execution_count": 15,
   "metadata": {},
   "outputs": [
    {
     "data": {
      "text/plain": [
       "39637.0"
      ]
     },
     "execution_count": 15,
     "metadata": {},
     "output_type": "execute_result"
    }
   ],
   "source": [
    "#Find the total number of sentiment counts\n",
    "df['Count'].sum()"
   ]
  },
  {
   "cell_type": "code",
   "execution_count": 16,
   "metadata": {},
   "outputs": [
    {
     "data": {
      "text/html": [
       "<div>\n",
       "<style scoped>\n",
       "    .dataframe tbody tr th:only-of-type {\n",
       "        vertical-align: middle;\n",
       "    }\n",
       "\n",
       "    .dataframe tbody tr th {\n",
       "        vertical-align: top;\n",
       "    }\n",
       "\n",
       "    .dataframe thead th {\n",
       "        text-align: right;\n",
       "    }\n",
       "</style>\n",
       "<table border=\"1\" class=\"dataframe\">\n",
       "  <thead>\n",
       "    <tr style=\"text-align: right;\">\n",
       "      <th></th>\n",
       "      <th>Class</th>\n",
       "      <th>Count</th>\n",
       "      <th>Values</th>\n",
       "      <th>Score</th>\n",
       "      <th>Normalized Count</th>\n",
       "      <th>Normalized Score</th>\n",
       "    </tr>\n",
       "  </thead>\n",
       "  <tbody>\n",
       "    <tr>\n",
       "      <th>1</th>\n",
       "      <td>-5 sentiments</td>\n",
       "      <td>527.0</td>\n",
       "      <td>-5</td>\n",
       "      <td>-2635.0</td>\n",
       "      <td>0.013296</td>\n",
       "      <td>0.066478</td>\n",
       "    </tr>\n",
       "    <tr>\n",
       "      <th>2</th>\n",
       "      <td>-4 sentiments</td>\n",
       "      <td>2532.0</td>\n",
       "      <td>-4</td>\n",
       "      <td>-10128.0</td>\n",
       "      <td>0.063880</td>\n",
       "      <td>0.255519</td>\n",
       "    </tr>\n",
       "    <tr>\n",
       "      <th>3</th>\n",
       "      <td>-3 sentiments</td>\n",
       "      <td>3233.0</td>\n",
       "      <td>-3</td>\n",
       "      <td>-9699.0</td>\n",
       "      <td>0.081565</td>\n",
       "      <td>0.244696</td>\n",
       "    </tr>\n",
       "    <tr>\n",
       "      <th>4</th>\n",
       "      <td>-2 sentiments</td>\n",
       "      <td>5501.0</td>\n",
       "      <td>-2</td>\n",
       "      <td>-11002.0</td>\n",
       "      <td>0.138784</td>\n",
       "      <td>0.277569</td>\n",
       "    </tr>\n",
       "    <tr>\n",
       "      <th>5</th>\n",
       "      <td>-1 sentiments</td>\n",
       "      <td>6730.0</td>\n",
       "      <td>-1</td>\n",
       "      <td>-6730.0</td>\n",
       "      <td>0.169791</td>\n",
       "      <td>0.169791</td>\n",
       "    </tr>\n",
       "    <tr>\n",
       "      <th>6</th>\n",
       "      <td>0 sentiments</td>\n",
       "      <td>0.0</td>\n",
       "      <td>0</td>\n",
       "      <td>0.0</td>\n",
       "      <td>0.000000</td>\n",
       "      <td>0.000000</td>\n",
       "    </tr>\n",
       "    <tr>\n",
       "      <th>7</th>\n",
       "      <td>1 sentiments</td>\n",
       "      <td>5371.0</td>\n",
       "      <td>1</td>\n",
       "      <td>5371.0</td>\n",
       "      <td>0.135505</td>\n",
       "      <td>0.135505</td>\n",
       "    </tr>\n",
       "    <tr>\n",
       "      <th>8</th>\n",
       "      <td>2 sentiments</td>\n",
       "      <td>8616.0</td>\n",
       "      <td>2</td>\n",
       "      <td>17232.0</td>\n",
       "      <td>0.217373</td>\n",
       "      <td>0.434745</td>\n",
       "    </tr>\n",
       "    <tr>\n",
       "      <th>9</th>\n",
       "      <td>3 sentiments</td>\n",
       "      <td>5751.0</td>\n",
       "      <td>3</td>\n",
       "      <td>17253.0</td>\n",
       "      <td>0.145092</td>\n",
       "      <td>0.435275</td>\n",
       "    </tr>\n",
       "    <tr>\n",
       "      <th>10</th>\n",
       "      <td>4 sentiments</td>\n",
       "      <td>1351.0</td>\n",
       "      <td>4</td>\n",
       "      <td>5404.0</td>\n",
       "      <td>0.034084</td>\n",
       "      <td>0.136337</td>\n",
       "    </tr>\n",
       "    <tr>\n",
       "      <th>11</th>\n",
       "      <td>5 sentiments</td>\n",
       "      <td>25.0</td>\n",
       "      <td>5</td>\n",
       "      <td>125.0</td>\n",
       "      <td>0.000631</td>\n",
       "      <td>0.003154</td>\n",
       "    </tr>\n",
       "  </tbody>\n",
       "</table>\n",
       "</div>"
      ],
      "text/plain": [
       "            Class   Count  Values    Score  Normalized Count  Normalized Score\n",
       "1   -5 sentiments   527.0      -5  -2635.0          0.013296          0.066478\n",
       "2   -4 sentiments  2532.0      -4 -10128.0          0.063880          0.255519\n",
       "3   -3 sentiments  3233.0      -3  -9699.0          0.081565          0.244696\n",
       "4   -2 sentiments  5501.0      -2 -11002.0          0.138784          0.277569\n",
       "5   -1 sentiments  6730.0      -1  -6730.0          0.169791          0.169791\n",
       "6    0 sentiments     0.0       0      0.0          0.000000          0.000000\n",
       "7    1 sentiments  5371.0       1   5371.0          0.135505          0.135505\n",
       "8    2 sentiments  8616.0       2  17232.0          0.217373          0.434745\n",
       "9    3 sentiments  5751.0       3  17253.0          0.145092          0.435275\n",
       "10   4 sentiments  1351.0       4   5404.0          0.034084          0.136337\n",
       "11   5 sentiments    25.0       5    125.0          0.000631          0.003154"
      ]
     },
     "execution_count": 16,
     "metadata": {},
     "output_type": "execute_result"
    }
   ],
   "source": [
    "# Multiply the count by value to get the score\n",
    "df['Score'] = df['Count']*df['Values']\n",
    "#Normalize the count value and score value to total counts\n",
    "df['Normalized Count']=df['Count']/df['Count'].sum()\n",
    "df['Normalized Score']=abs(df['Normalized Count']*df['Values'])\n",
    "df"
   ]
  },
  {
   "cell_type": "code",
   "execution_count": 17,
   "metadata": {},
   "outputs": [
    {
     "data": {
      "text/plain": [
       "0.1309634937053763"
      ]
     },
     "execution_count": 17,
     "metadata": {},
     "output_type": "execute_result"
    }
   ],
   "source": [
    "#Average sentiment value\n",
    "df['Score'].sum()/df['Count'].sum()"
   ]
  },
  {
   "cell_type": "code",
   "execution_count": 18,
   "metadata": {},
   "outputs": [
    {
     "data": {
      "image/png": "[encoded data removed]",
      "text/plain": [
       "<Figure size 432x288 with 1 Axes>"
      ]
     },
     "metadata": {
      "needs_background": "light"
     },
     "output_type": "display_data"
    }
   ],
   "source": [
    "#Make a bar plot of the baseline tweet sentiment scores\n",
    "plt.bar(df['Values'],abs(df['Score']))\n",
    "plt.xlabel('Sentiment Value')\n",
    "plt.ylabel('Tweet Score')\n",
    "plt.title('Baseline Tweet Sentiment Scores')\n",
    "plt.show()"
   ]
  },
  {
   "cell_type": "code",
   "execution_count": 19,
   "metadata": {},
   "outputs": [
    {
     "data": {
      "image/png": "[encoded data removed]",
      "text/plain": [
       "<Figure size 432x288 with 1 Axes>"
      ]
     },
     "metadata": {
      "needs_background": "light"
     },
     "output_type": "display_data"
    }
   ],
   "source": [
    "#Make a bar plot of the baseline tweet sentiment normalized scores\n",
    "plt.bar(df['Values'],df['Normalized Score'])\n",
    "plt.xlabel('Sentiment Value')\n",
    "plt.ylabel('Normalized Tweet Score')\n",
    "plt.title('Baseline Tweet Sentiment Normalized Score')\n",
    "plt.show()"
   ]
  },
  {
   "cell_type": "code",
   "execution_count": 20,
   "metadata": {},
   "outputs": [
    {
     "data": {
      "image/png": "[encoded data removed]",
      "text/plain": [
       "<Figure size 432x288 with 1 Axes>"
      ]
     },
     "metadata": {
      "needs_background": "light"
     },
     "output_type": "display_data"
    }
   ],
   "source": [
    "#Bar plot of the baseline tweet sentiment count\n",
    "plt.bar(df['Values'],df['Count'])\n",
    "plt.xlabel('Sentiment Value')\n",
    "plt.ylabel('Tweet Count')\n",
    "plt.title('Baseline Tweet Sentiment Count')\n",
    "plt.show()"
   ]
  },
  {
   "cell_type": "code",
   "execution_count": 21,
   "metadata": {},
   "outputs": [
    {
     "data": {
      "image/png": "[encoded data removed]",
      "text/plain": [
       "<Figure size 432x288 with 1 Axes>"
      ]
     },
     "metadata": {
      "needs_background": "light"
     },
     "output_type": "display_data"
    }
   ],
   "source": [
    "#Bar plot of the baseline tweet sentiment normalized count\n",
    "plt.bar(df['Values'],df['Normalized Count'])\n",
    "plt.xlabel('Sentiment Value')\n",
    "plt.ylabel('Tweet Normalized Count')\n",
    "plt.title('Baseline Tweet Sentiment Normalized Count')\n",
    "plt.show()"
   ]
  },
  {
   "cell_type": "code",
   "execution_count": 22,
   "metadata": {},
   "outputs": [
    {
     "data": {
      "text/html": [
       "<div>\n",
       "<style scoped>\n",
       "    .dataframe tbody tr th:only-of-type {\n",
       "        vertical-align: middle;\n",
       "    }\n",
       "\n",
       "    .dataframe tbody tr th {\n",
       "        vertical-align: top;\n",
       "    }\n",
       "\n",
       "    .dataframe thead th {\n",
       "        text-align: right;\n",
       "    }\n",
       "</style>\n",
       "<table border=\"1\" class=\"dataframe\">\n",
       "  <thead>\n",
       "    <tr style=\"text-align: right;\">\n",
       "      <th></th>\n",
       "      <th>Class</th>\n",
       "      <th>Count</th>\n",
       "    </tr>\n",
       "  </thead>\n",
       "  <tbody>\n",
       "    <tr>\n",
       "      <th>0</th>\n",
       "      <td>&lt;class 'dict'&gt;</td>\n",
       "      <td>NaN</td>\n",
       "    </tr>\n",
       "    <tr>\n",
       "      <th>1</th>\n",
       "      <td>-5 sentiments</td>\n",
       "      <td>2.0</td>\n",
       "    </tr>\n",
       "    <tr>\n",
       "      <th>2</th>\n",
       "      <td>-4 sentiments</td>\n",
       "      <td>4.0</td>\n",
       "    </tr>\n",
       "    <tr>\n",
       "      <th>3</th>\n",
       "      <td>-3 sentiments</td>\n",
       "      <td>29.0</td>\n",
       "    </tr>\n",
       "    <tr>\n",
       "      <th>4</th>\n",
       "      <td>-2 sentiments</td>\n",
       "      <td>33.0</td>\n",
       "    </tr>\n",
       "    <tr>\n",
       "      <th>5</th>\n",
       "      <td>-1 sentiments</td>\n",
       "      <td>154.0</td>\n",
       "    </tr>\n",
       "    <tr>\n",
       "      <th>6</th>\n",
       "      <td>0 sentiments</td>\n",
       "      <td>0.0</td>\n",
       "    </tr>\n",
       "    <tr>\n",
       "      <th>7</th>\n",
       "      <td>1 sentiments</td>\n",
       "      <td>161.0</td>\n",
       "    </tr>\n",
       "    <tr>\n",
       "      <th>8</th>\n",
       "      <td>2 sentiments</td>\n",
       "      <td>346.0</td>\n",
       "    </tr>\n",
       "    <tr>\n",
       "      <th>9</th>\n",
       "      <td>3 sentiments</td>\n",
       "      <td>250.0</td>\n",
       "    </tr>\n",
       "    <tr>\n",
       "      <th>10</th>\n",
       "      <td>4 sentiments</td>\n",
       "      <td>9.0</td>\n",
       "    </tr>\n",
       "    <tr>\n",
       "      <th>11</th>\n",
       "      <td>5 sentiments</td>\n",
       "      <td>0.0</td>\n",
       "    </tr>\n",
       "  </tbody>\n",
       "</table>\n",
       "</div>"
      ],
      "text/plain": [
       "             Class  Count\n",
       "0   <class 'dict'>    NaN\n",
       "1    -5 sentiments    2.0\n",
       "2    -4 sentiments    4.0\n",
       "3    -3 sentiments   29.0\n",
       "4    -2 sentiments   33.0\n",
       "5    -1 sentiments  154.0\n",
       "6     0 sentiments    0.0\n",
       "7     1 sentiments  161.0\n",
       "8     2 sentiments  346.0\n",
       "9     3 sentiments  250.0\n",
       "10    4 sentiments    9.0\n",
       "11    5 sentiments    0.0"
      ]
     },
     "execution_count": 22,
     "metadata": {},
     "output_type": "execute_result"
    }
   ],
   "source": [
    "#Import the specifice-movie file and label the columns\n",
    "hf = pd.read_fwf('hastag.txt', delimiter=\" \", names = ['Class', \"Count\"])\n",
    "hf\n"
   ]
  },
  {
   "cell_type": "code",
   "execution_count": 23,
   "metadata": {},
   "outputs": [
    {
     "data": {
      "text/html": [
       "<div>\n",
       "<style scoped>\n",
       "    .dataframe tbody tr th:only-of-type {\n",
       "        vertical-align: middle;\n",
       "    }\n",
       "\n",
       "    .dataframe tbody tr th {\n",
       "        vertical-align: top;\n",
       "    }\n",
       "\n",
       "    .dataframe thead th {\n",
       "        text-align: right;\n",
       "    }\n",
       "</style>\n",
       "<table border=\"1\" class=\"dataframe\">\n",
       "  <thead>\n",
       "    <tr style=\"text-align: right;\">\n",
       "      <th></th>\n",
       "      <th>Class</th>\n",
       "      <th>Count</th>\n",
       "    </tr>\n",
       "  </thead>\n",
       "  <tbody>\n",
       "    <tr>\n",
       "      <th>1</th>\n",
       "      <td>-5 sentiments</td>\n",
       "      <td>2.0</td>\n",
       "    </tr>\n",
       "    <tr>\n",
       "      <th>2</th>\n",
       "      <td>-4 sentiments</td>\n",
       "      <td>4.0</td>\n",
       "    </tr>\n",
       "    <tr>\n",
       "      <th>3</th>\n",
       "      <td>-3 sentiments</td>\n",
       "      <td>29.0</td>\n",
       "    </tr>\n",
       "    <tr>\n",
       "      <th>4</th>\n",
       "      <td>-2 sentiments</td>\n",
       "      <td>33.0</td>\n",
       "    </tr>\n",
       "    <tr>\n",
       "      <th>5</th>\n",
       "      <td>-1 sentiments</td>\n",
       "      <td>154.0</td>\n",
       "    </tr>\n",
       "    <tr>\n",
       "      <th>6</th>\n",
       "      <td>0 sentiments</td>\n",
       "      <td>0.0</td>\n",
       "    </tr>\n",
       "    <tr>\n",
       "      <th>7</th>\n",
       "      <td>1 sentiments</td>\n",
       "      <td>161.0</td>\n",
       "    </tr>\n",
       "    <tr>\n",
       "      <th>8</th>\n",
       "      <td>2 sentiments</td>\n",
       "      <td>346.0</td>\n",
       "    </tr>\n",
       "    <tr>\n",
       "      <th>9</th>\n",
       "      <td>3 sentiments</td>\n",
       "      <td>250.0</td>\n",
       "    </tr>\n",
       "    <tr>\n",
       "      <th>10</th>\n",
       "      <td>4 sentiments</td>\n",
       "      <td>9.0</td>\n",
       "    </tr>\n",
       "    <tr>\n",
       "      <th>11</th>\n",
       "      <td>5 sentiments</td>\n",
       "      <td>0.0</td>\n",
       "    </tr>\n",
       "  </tbody>\n",
       "</table>\n",
       "</div>"
      ],
      "text/plain": [
       "            Class  Count\n",
       "1   -5 sentiments    2.0\n",
       "2   -4 sentiments    4.0\n",
       "3   -3 sentiments   29.0\n",
       "4   -2 sentiments   33.0\n",
       "5   -1 sentiments  154.0\n",
       "6    0 sentiments    0.0\n",
       "7    1 sentiments  161.0\n",
       "8    2 sentiments  346.0\n",
       "9    3 sentiments  250.0\n",
       "10   4 sentiments    9.0\n",
       "11   5 sentiments    0.0"
      ]
     },
     "execution_count": 23,
     "metadata": {},
     "output_type": "execute_result"
    }
   ],
   "source": [
    "#remove the column header that we do not need\n",
    "hf = hf.dropna()\n",
    "hf\n"
   ]
  },
  {
   "cell_type": "code",
   "execution_count": 24,
   "metadata": {},
   "outputs": [
    {
     "data": {
      "text/html": [
       "<div>\n",
       "<style scoped>\n",
       "    .dataframe tbody tr th:only-of-type {\n",
       "        vertical-align: middle;\n",
       "    }\n",
       "\n",
       "    .dataframe tbody tr th {\n",
       "        vertical-align: top;\n",
       "    }\n",
       "\n",
       "    .dataframe thead th {\n",
       "        text-align: right;\n",
       "    }\n",
       "</style>\n",
       "<table border=\"1\" class=\"dataframe\">\n",
       "  <thead>\n",
       "    <tr style=\"text-align: right;\">\n",
       "      <th></th>\n",
       "      <th>Class</th>\n",
       "      <th>Count</th>\n",
       "      <th>Values</th>\n",
       "    </tr>\n",
       "  </thead>\n",
       "  <tbody>\n",
       "    <tr>\n",
       "      <th>1</th>\n",
       "      <td>-5 sentiments</td>\n",
       "      <td>2.0</td>\n",
       "      <td>-5</td>\n",
       "    </tr>\n",
       "    <tr>\n",
       "      <th>2</th>\n",
       "      <td>-4 sentiments</td>\n",
       "      <td>4.0</td>\n",
       "      <td>-4</td>\n",
       "    </tr>\n",
       "    <tr>\n",
       "      <th>3</th>\n",
       "      <td>-3 sentiments</td>\n",
       "      <td>29.0</td>\n",
       "      <td>-3</td>\n",
       "    </tr>\n",
       "    <tr>\n",
       "      <th>4</th>\n",
       "      <td>-2 sentiments</td>\n",
       "      <td>33.0</td>\n",
       "      <td>-2</td>\n",
       "    </tr>\n",
       "    <tr>\n",
       "      <th>5</th>\n",
       "      <td>-1 sentiments</td>\n",
       "      <td>154.0</td>\n",
       "      <td>-1</td>\n",
       "    </tr>\n",
       "    <tr>\n",
       "      <th>6</th>\n",
       "      <td>0 sentiments</td>\n",
       "      <td>0.0</td>\n",
       "      <td>0</td>\n",
       "    </tr>\n",
       "    <tr>\n",
       "      <th>7</th>\n",
       "      <td>1 sentiments</td>\n",
       "      <td>161.0</td>\n",
       "      <td>1</td>\n",
       "    </tr>\n",
       "    <tr>\n",
       "      <th>8</th>\n",
       "      <td>2 sentiments</td>\n",
       "      <td>346.0</td>\n",
       "      <td>2</td>\n",
       "    </tr>\n",
       "    <tr>\n",
       "      <th>9</th>\n",
       "      <td>3 sentiments</td>\n",
       "      <td>250.0</td>\n",
       "      <td>3</td>\n",
       "    </tr>\n",
       "    <tr>\n",
       "      <th>10</th>\n",
       "      <td>4 sentiments</td>\n",
       "      <td>9.0</td>\n",
       "      <td>4</td>\n",
       "    </tr>\n",
       "    <tr>\n",
       "      <th>11</th>\n",
       "      <td>5 sentiments</td>\n",
       "      <td>0.0</td>\n",
       "      <td>5</td>\n",
       "    </tr>\n",
       "  </tbody>\n",
       "</table>\n",
       "</div>"
      ],
      "text/plain": [
       "            Class  Count  Values\n",
       "1   -5 sentiments    2.0      -5\n",
       "2   -4 sentiments    4.0      -4\n",
       "3   -3 sentiments   29.0      -3\n",
       "4   -2 sentiments   33.0      -2\n",
       "5   -1 sentiments  154.0      -1\n",
       "6    0 sentiments    0.0       0\n",
       "7    1 sentiments  161.0       1\n",
       "8    2 sentiments  346.0       2\n",
       "9    3 sentiments  250.0       3\n",
       "10   4 sentiments    9.0       4\n",
       "11   5 sentiments    0.0       5"
      ]
     },
     "execution_count": 24,
     "metadata": {},
     "output_type": "execute_result"
    }
   ],
   "source": [
    "# add a new column with the sentiment values\n",
    "hf = hf.copy()\n",
    "hf['Values'] = range(-5,6)\n",
    "hf"
   ]
  },
  {
   "cell_type": "code",
   "execution_count": 25,
   "metadata": {},
   "outputs": [
    {
     "data": {
      "text/plain": [
       "988.0"
      ]
     },
     "execution_count": 25,
     "metadata": {},
     "output_type": "execute_result"
    }
   ],
   "source": [
    "#Find the total number of sentiment counts\n",
    "hf['Count'].sum()"
   ]
  },
  {
   "cell_type": "code",
   "execution_count": 26,
   "metadata": {
    "scrolled": true
   },
   "outputs": [
    {
     "data": {
      "text/html": [
       "<div>\n",
       "<style scoped>\n",
       "    .dataframe tbody tr th:only-of-type {\n",
       "        vertical-align: middle;\n",
       "    }\n",
       "\n",
       "    .dataframe tbody tr th {\n",
       "        vertical-align: top;\n",
       "    }\n",
       "\n",
       "    .dataframe thead th {\n",
       "        text-align: right;\n",
       "    }\n",
       "</style>\n",
       "<table border=\"1\" class=\"dataframe\">\n",
       "  <thead>\n",
       "    <tr style=\"text-align: right;\">\n",
       "      <th></th>\n",
       "      <th>Class</th>\n",
       "      <th>Count</th>\n",
       "      <th>Values</th>\n",
       "      <th>Score</th>\n",
       "      <th>Normalized Count</th>\n",
       "      <th>Normalized Score</th>\n",
       "    </tr>\n",
       "  </thead>\n",
       "  <tbody>\n",
       "    <tr>\n",
       "      <th>1</th>\n",
       "      <td>-5 sentiments</td>\n",
       "      <td>2.0</td>\n",
       "      <td>-5</td>\n",
       "      <td>-10.0</td>\n",
       "      <td>0.002024</td>\n",
       "      <td>0.010121</td>\n",
       "    </tr>\n",
       "    <tr>\n",
       "      <th>2</th>\n",
       "      <td>-4 sentiments</td>\n",
       "      <td>4.0</td>\n",
       "      <td>-4</td>\n",
       "      <td>-16.0</td>\n",
       "      <td>0.004049</td>\n",
       "      <td>0.016194</td>\n",
       "    </tr>\n",
       "    <tr>\n",
       "      <th>3</th>\n",
       "      <td>-3 sentiments</td>\n",
       "      <td>29.0</td>\n",
       "      <td>-3</td>\n",
       "      <td>-87.0</td>\n",
       "      <td>0.029352</td>\n",
       "      <td>0.088057</td>\n",
       "    </tr>\n",
       "    <tr>\n",
       "      <th>4</th>\n",
       "      <td>-2 sentiments</td>\n",
       "      <td>33.0</td>\n",
       "      <td>-2</td>\n",
       "      <td>-66.0</td>\n",
       "      <td>0.033401</td>\n",
       "      <td>0.066802</td>\n",
       "    </tr>\n",
       "    <tr>\n",
       "      <th>5</th>\n",
       "      <td>-1 sentiments</td>\n",
       "      <td>154.0</td>\n",
       "      <td>-1</td>\n",
       "      <td>-154.0</td>\n",
       "      <td>0.155870</td>\n",
       "      <td>0.155870</td>\n",
       "    </tr>\n",
       "    <tr>\n",
       "      <th>6</th>\n",
       "      <td>0 sentiments</td>\n",
       "      <td>0.0</td>\n",
       "      <td>0</td>\n",
       "      <td>0.0</td>\n",
       "      <td>0.000000</td>\n",
       "      <td>0.000000</td>\n",
       "    </tr>\n",
       "    <tr>\n",
       "      <th>7</th>\n",
       "      <td>1 sentiments</td>\n",
       "      <td>161.0</td>\n",
       "      <td>1</td>\n",
       "      <td>161.0</td>\n",
       "      <td>0.162955</td>\n",
       "      <td>0.162955</td>\n",
       "    </tr>\n",
       "    <tr>\n",
       "      <th>8</th>\n",
       "      <td>2 sentiments</td>\n",
       "      <td>346.0</td>\n",
       "      <td>2</td>\n",
       "      <td>692.0</td>\n",
       "      <td>0.350202</td>\n",
       "      <td>0.700405</td>\n",
       "    </tr>\n",
       "    <tr>\n",
       "      <th>9</th>\n",
       "      <td>3 sentiments</td>\n",
       "      <td>250.0</td>\n",
       "      <td>3</td>\n",
       "      <td>750.0</td>\n",
       "      <td>0.253036</td>\n",
       "      <td>0.759109</td>\n",
       "    </tr>\n",
       "    <tr>\n",
       "      <th>10</th>\n",
       "      <td>4 sentiments</td>\n",
       "      <td>9.0</td>\n",
       "      <td>4</td>\n",
       "      <td>36.0</td>\n",
       "      <td>0.009109</td>\n",
       "      <td>0.036437</td>\n",
       "    </tr>\n",
       "    <tr>\n",
       "      <th>11</th>\n",
       "      <td>5 sentiments</td>\n",
       "      <td>0.0</td>\n",
       "      <td>5</td>\n",
       "      <td>0.0</td>\n",
       "      <td>0.000000</td>\n",
       "      <td>0.000000</td>\n",
       "    </tr>\n",
       "  </tbody>\n",
       "</table>\n",
       "</div>"
      ],
      "text/plain": [
       "            Class  Count  Values  Score  Normalized Count  Normalized Score\n",
       "1   -5 sentiments    2.0      -5  -10.0          0.002024          0.010121\n",
       "2   -4 sentiments    4.0      -4  -16.0          0.004049          0.016194\n",
       "3   -3 sentiments   29.0      -3  -87.0          0.029352          0.088057\n",
       "4   -2 sentiments   33.0      -2  -66.0          0.033401          0.066802\n",
       "5   -1 sentiments  154.0      -1 -154.0          0.155870          0.155870\n",
       "6    0 sentiments    0.0       0    0.0          0.000000          0.000000\n",
       "7    1 sentiments  161.0       1  161.0          0.162955          0.162955\n",
       "8    2 sentiments  346.0       2  692.0          0.350202          0.700405\n",
       "9    3 sentiments  250.0       3  750.0          0.253036          0.759109\n",
       "10   4 sentiments    9.0       4   36.0          0.009109          0.036437\n",
       "11   5 sentiments    0.0       5    0.0          0.000000          0.000000"
      ]
     },
     "execution_count": 26,
     "metadata": {},
     "output_type": "execute_result"
    }
   ],
   "source": [
    "# Multiply the count by value to get the score\n",
    "hf['Score'] = hf['Count']*hf['Values']\n",
    "#Normalize the count value and score value to total counts\n",
    "hf['Normalized Count']=hf['Count']/hf['Count'].sum()\n",
    "hf['Normalized Score']=abs(hf['Normalized Count']*hf['Values'])\n",
    "hf"
   ]
  },
  {
   "cell_type": "code",
   "execution_count": 27,
   "metadata": {},
   "outputs": [
    {
     "data": {
      "text/plain": [
       "1.3218623481781377"
      ]
     },
     "execution_count": 27,
     "metadata": {},
     "output_type": "execute_result"
    }
   ],
   "source": [
    "#Average sentiment value\n",
    "hf['Score'].sum()/hf['Count'].sum()"
   ]
  },
  {
   "cell_type": "code",
   "execution_count": 30,
   "metadata": {},
   "outputs": [
    {
     "data": {
      "image/png": "[encoded data removed]",
      "text/plain": [
       "<Figure size 432x288 with 1 Axes>"
      ]
     },
     "metadata": {
      "needs_background": "light"
     },
     "output_type": "display_data"
    }
   ],
   "source": [
    "#Make a bar plot of the specifice-movie tweet sentiment scores\n",
    "plt.bar(hf['Values'],abs(hf['Score']))\n",
    "plt.xlabel('Sentiment Value')\n",
    "plt.ylabel('Tweet Score')\n",
    "plt.title('Specifice-Movie Tweet Sentiment Scores')\n",
    "plt.show()"
   ]
  },
  {
   "cell_type": "code",
   "execution_count": 29,
   "metadata": {},
   "outputs": [
    {
     "data": {
      "image/png": "[encoded data removed]",
      "text/plain": [
       "<Figure size 432x288 with 1 Axes>"
      ]
     },
     "metadata": {
      "needs_background": "light"
     },
     "output_type": "display_data"
    }
   ],
   "source": [
    "#Make a bar plot of the specifice-movie tweet sentiment normalized scores\n",
    "plt.bar(hf['Values'],hf['Normalized Score'])\n",
    "plt.xlabel('Sentiment Value')\n",
    "plt.ylabel('Normalized Tweet Score')\n",
    "plt.title('Specifice-movie Tweet Sentiment Normalized Score')\n",
    "plt.show()"
   ]
  },
  {
   "cell_type": "code",
   "execution_count": 31,
   "metadata": {},
   "outputs": [
    {
     "data": {
      "image/png": "[encoded data removed]",
      "text/plain": [
       "<Figure size 432x288 with 1 Axes>"
      ]
     },
     "metadata": {
      "needs_background": "light"
     },
     "output_type": "display_data"
    }
   ],
   "source": [
    "#Bar plot of the specifice tweet sentiment count\n",
    "plt.bar(hf['Values'],hf['Count'])\n",
    "plt.xlabel('Sentiment Value')\n",
    "plt.ylabel('Tweet Count')\n",
    "plt.title('specifice-movie Tweet Sentiment Count')\n",
    "plt.show()"
   ]
  },
  {
   "cell_type": "code",
   "execution_count": 32,
   "metadata": {},
   "outputs": [
    {
     "data": {
      "image/png": "[encoded data removed]",
      "text/plain": [
       "<Figure size 432x288 with 1 Axes>"
      ]
     },
     "metadata": {
      "needs_background": "light"
     },
     "output_type": "display_data"
    }
   ],
   "source": [
    "#Bar plot of the specifice tweet sentiment normalized count\n",
    "plt.bar(hf['Values'],hf['Normalized Count'])\n",
    "plt.xlabel('Sentiment Value')\n",
    "plt.ylabel('Tweet Normalized Count')\n",
    "plt.title('specifice-movie Tweet Sentiment Normalized Count')\n",
    "plt.show()"
   ]
  },
  {
   "cell_type": "code",
   "execution_count": 53,
   "metadata": {},
   "outputs": [
    {
     "data": {
      "image/png": "[encoded data removed]",
      "text/plain": [
       "<Figure size 432x288 with 1 Axes>"
      ]
     },
     "metadata": {
      "needs_background": "light"
     },
     "output_type": "display_data"
    }
   ],
   "source": [
    "# Try making at least one graph that shows the difference in baseline tweet counts or scores to your tweet specific counts or scores.\n",
    "\n",
    "plt.bar(df['Values'],df['Normalized Count'],color='r')\n",
    "plt.bar(hf['Values'],hf['Normalized Count'])\n",
    "plt.xlabel('Sentiment Value')\n",
    "plt.ylabel('Normalized count')\n",
    "plt.title('Baseline & Specifice-Movie Normalized Count')\n",
    "plt.show()"
   ]
  },
  {
   "cell_type": "code",
   "execution_count": 54,
   "metadata": {},
   "outputs": [
    {
     "data": {
      "image/png": "[encoded data removed]",
      "text/plain": [
       "<Figure size 432x288 with 1 Axes>"
      ]
     },
     "metadata": {
      "needs_background": "light"
     },
     "output_type": "display_data"
    }
   ],
   "source": [
    "plt.scatter(df['Values'],df['Normalized Count'],color='red')\n",
    "plt.scatter(hf['Values'],hf['Normalized Count'],color='blue')\n",
    "plt.xlabel('Sentiment Value')\n",
    "plt.ylabel('Normalized count')\n",
    "plt.title('Baseline & Specifice-Movie Normalized Count')\n",
    "plt.show()"
   ]
  },
  {
   "cell_type": "markdown",
   "metadata": {},
   "source": [
    "Write a brief conclusion summarizing your results. Here are some questions to help you organize your ideas: How did you deal with uneven tweet counts? What are some assumptions in the AFINN-111.txt file and the sentiment ranking of words? How are the tweets weighted ie. are 10 -5 tweets as bad as 50 -1 tweets?  What was the average sentiment value of twitter and your search specific tweets? Et cetera, et cetera, et cetera.  Save this jupyter-notebook with your name in the title and post it to the Project - Sentiment Analysis using Python under the Assignments tab in worldclass."
   ]
  },
  {
   "cell_type": "code",
   "execution_count": null,
   "metadata": {},
   "outputs": [],
   "source": [
    "#For this assignment I have chosen movie to be the specific tweet hash tag for compare baseline tweet and specific tweet.\n",
    "#In summary, the total count of the baseline tweets is 39637 and the total count of the specific tweet is 988. The average sentiment value of the baseline tweet is 0.1309634937053763 and the average sentiment value of the specific tweet is 1.3218623481781377.\n",
    "#We have dealt with the uneven counts of tweets by normalizing the count and the score of the tweets. Normalizing the data distributes the uneven data normally so that the EPL dataset are representative of the overall distribution of the data.\n",
    "#There are many assumptions made in the AFINN-111.txt that I don’t think necessarily gives current analysis of these thousands of tweets. For e.g. if you see the in the AFINN-111.txt not good is marked negative but not acceptable also is a negative phrase that can be tweeted which is not included in the list. AFINN-111.txt does not consider that negative words when followed by positive words make a different sense(value) of the tweets or vice-versa. Therefore, I don’t think AFINN_111.txt can be truly trusted to represent the sentiment value of all the tweets.\n",
    "#The tweet weights are based in the counts and its value. The final score depends of whether it is positive or negative score. From what I can see in my case, -1 sentiments tweets and +1 sentiment tweets have similar final score and it represents the same, although the sign is different.  \n",
    "#Another thing I have notices in the graphs is while plotting to compare the baseline value and specific value scatter plot represents the graph better that the bar graph. In scatter plot we can clearly see the difference of which lies where.\n"
   ]
  }
 ],
 "metadata": {
  "kernelspec": {
   "display_name": "Python 3",
   "language": "python",
   "name": "python3"
  },
  "language_info": {
   "codemirror_mode": {
    "name": "ipython",
    "version": 3
   },
   "file_extension": ".py",
   "mimetype": "text/x-python",
   "name": "python",
   "nbconvert_exporter": "python",
   "pygments_lexer": "ipython3",
   "version": "3.7.0"
  }
 },
 "nbformat": 4,
 "nbformat_minor": 2
}
